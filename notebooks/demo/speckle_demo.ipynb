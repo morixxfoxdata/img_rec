{
 "cells": [
  {
   "cell_type": "code",
   "execution_count": null,
   "metadata": {},
   "outputs": [
    {
     "name": "stdout",
     "output_type": "stream",
     "text": [
      "PROJECT_ROOT: /Users/norikikomori/Desktop/img_rec\n",
      "sys.path: ['/Users/norikikomori/Desktop/img_rec/notebooks/demo', '/opt/anaconda3/lib/python312.zip', '/opt/anaconda3/lib/python3.12', '/opt/anaconda3/lib/python3.12/lib-dynload', '', '/opt/anaconda3/lib/python3.12/site-packages', '/opt/anaconda3/lib/python3.12/site-packages/aeosa', '/opt/anaconda3/lib/python3.12/site-packages/setuptools/_vendor', '/Users/norikikomori/Desktop/img_rec']\n"
     ]
    }
   ],
   "source": [
    "import os\n",
    "import sys\n",
    "# 現在のノートブック位置: notebooks/demo\n",
    "# プロジェクトルートは notebooks/demo/ から 2階層上: \"../..\"\n",
    "PROJECT_ROOT = os.path.abspath(os.path.join(\"..\", \"..\"))\n",
    "\n",
    "# Python のモジュール検索パスに追加\n",
    "if PROJECT_ROOT not in sys.path:\n",
    "    sys.path.append(PROJECT_ROOT)\n",
    "\n",
    "print(\"PROJECT_ROOT:\", PROJECT_ROOT)\n",
    "print(\"sys.path:\", sys.path)"
   ]
  },
  {
   "cell_type": "code",
   "execution_count": 10,
   "metadata": {},
   "outputs": [],
   "source": [
    "# from src.config import RAW_DATA_DIR\n",
    "import numpy as np\n",
    "import matplotlib.pyplot as plt\n",
    "from src.dataset.process import load_npz_file, load_npz_signal, target_image, collected_signal\n",
    "from src.dataset.speckle_pred import speckle_pred_inv\n",
    "\n",
    "file_y = \"Rand+Mnist+Rand_pix28x28_image(1500+10+1500)x2_sig2500x4wave.npz\"\n",
    "file_x = \"Rand+Mnist+Rand_size28x28_image(1500+10+1500)x2.npz\""
   ]
  },
  {
   "cell_type": "code",
   "execution_count": 21,
   "metadata": {},
   "outputs": [],
   "source": [
    "S = speckle_pred_inv(path_x=file_x, path_y=file_y, select=\"both\")"
   ]
  },
  {
   "cell_type": "code",
   "execution_count": 22,
   "metadata": {},
   "outputs": [
    {
     "name": "stdout",
     "output_type": "stream",
     "text": [
      "(784, 10000)\n"
     ]
    }
   ],
   "source": [
    "print(S.shape)"
   ]
  },
  {
   "cell_type": "code",
   "execution_count": 23,
   "metadata": {},
   "outputs": [
    {
     "data": {
      "text/plain": [
       "-0.003202622393961231"
      ]
     },
     "execution_count": 23,
     "metadata": {},
     "output_type": "execute_result"
    }
   ],
   "source": [
    "S.min()"
   ]
  },
  {
   "cell_type": "code",
   "execution_count": null,
   "metadata": {},
   "outputs": [],
   "source": []
  }
 ],
 "metadata": {
  "kernelspec": {
   "display_name": "base",
   "language": "python",
   "name": "python3"
  },
  "language_info": {
   "codemirror_mode": {
    "name": "ipython",
    "version": 3
   },
   "file_extension": ".py",
   "mimetype": "text/x-python",
   "name": "python",
   "nbconvert_exporter": "python",
   "pygments_lexer": "ipython3",
   "version": "3.12.2"
  }
 },
 "nbformat": 4,
 "nbformat_minor": 2
}
