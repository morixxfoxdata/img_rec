{
 "cells": [
  {
   "cell_type": "code",
   "execution_count": null,
   "metadata": {},
   "outputs": [
    {
     "name": "stdout",
     "output_type": "stream",
     "text": [
      "PROJECT_ROOT: /Users/norikikomori/Desktop/img_rec\n",
      "sys.path: ['/Users/norikikomori/Desktop/img_rec/notebooks/demo', '/opt/anaconda3/lib/python312.zip', '/opt/anaconda3/lib/python3.12', '/opt/anaconda3/lib/python3.12/lib-dynload', '', '/opt/anaconda3/lib/python3.12/site-packages', '/opt/anaconda3/lib/python3.12/site-packages/aeosa', '/opt/anaconda3/lib/python3.12/site-packages/setuptools/_vendor', '/Users/norikikomori/Desktop/img_rec']\n"
     ]
    }
   ],
   "source": [
    "import os\n",
    "import sys\n",
    "# 現在のノートブック位置: notebooks/demo\n",
    "# プロジェクトルートは notebooks/demo/ から 2階層上: \"../..\"\n",
    "PROJECT_ROOT = os.path.abspath(os.path.join(\"..\", \"..\"))\n",
    "\n",
    "# Python のモジュール検索パスに追加\n",
    "if PROJECT_ROOT not in sys.path:\n",
    "    sys.path.append(PROJECT_ROOT)\n",
    "\n",
    "print(\"PROJECT_ROOT:\", PROJECT_ROOT)\n",
    "print(\"sys.path:\", sys.path)"
   ]
  },
  {
   "cell_type": "code",
   "execution_count": null,
   "metadata": {},
   "outputs": [],
   "source": [
    "from src.config import RAW_DATA_DIR\n",
    "from src.dataset.process import load_npz_file"
   ]
  },
  {
   "cell_type": "code",
   "execution_count": 9,
   "metadata": {},
   "outputs": [
    {
     "data": {
      "text/plain": [
       "array([[-0.057 , -0.063 , -0.063 , ..., -0.0606, -0.057 , -0.0558],\n",
       "       [-0.063 , -0.0642, -0.0606, ..., -0.0678, -0.0666, -0.0618],\n",
       "       [-0.057 , -0.057 , -0.057 , ..., -0.0618, -0.0582, -0.0558],\n",
       "       ...,\n",
       "       [-0.057 , -0.0606, -0.0582, ..., -0.0582, -0.0534, -0.0522],\n",
       "       [-0.0666, -0.0642, -0.0606, ..., -0.0642, -0.0618, -0.0606],\n",
       "       [-0.0642, -0.0618, -0.063 , ..., -0.063 , -0.063 , -0.0618]])"
      ]
     },
     "execution_count": 9,
     "metadata": {},
     "output_type": "execute_result"
    }
   ],
   "source": [
    "file_name = \"Rand+Mnist+Rand_pix28x28_image(1500+10+1500)x2_sig2500_ffts02_DMD200x200_1547.npz\"\n",
    "data = load_npz_file(file_name=file_name)\n",
    "data"
   ]
  },
  {
   "cell_type": "code",
   "execution_count": null,
   "metadata": {},
   "outputs": [],
   "source": []
  }
 ],
 "metadata": {
  "kernelspec": {
   "display_name": "base",
   "language": "python",
   "name": "python3"
  },
  "language_info": {
   "codemirror_mode": {
    "name": "ipython",
    "version": 3
   },
   "file_extension": ".py",
   "mimetype": "text/x-python",
   "name": "python",
   "nbconvert_exporter": "python",
   "pygments_lexer": "ipython3",
   "version": "3.12.2"
  }
 },
 "nbformat": 4,
 "nbformat_minor": 2
}
